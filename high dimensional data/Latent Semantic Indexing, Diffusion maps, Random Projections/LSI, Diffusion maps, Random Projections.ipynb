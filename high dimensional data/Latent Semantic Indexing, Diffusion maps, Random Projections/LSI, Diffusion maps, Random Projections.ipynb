{
 "cells": [
  {
   "cell_type": "markdown",
   "metadata": {},
   "source": [
    "# High-dimensional data analysis- HW 1\n",
    "#### Group 8:"
   ]
  },
  {
   "cell_type": "code",
   "execution_count": 1,
   "metadata": {},
   "outputs": [],
   "source": [
    "# imports packages \n",
    "import sklearn\n",
    "from __future__ import print_function\n",
    "from sklearn.decomposition import TruncatedSVD\n",
    "from sklearn.feature_extraction.text import TfidfVectorizer\n",
    "from sklearn.feature_extraction.text import CountVectorizer\n",
    "from sklearn.preprocessing import Normalizer\n",
    "from sklearn import metrics\n",
    "from sklearn.cluster import KMeans, MiniBatchKMeans\n",
    "import pandas as pd\n",
    "import warnings\n",
    "from scipy.sparse.linalg import svds\n",
    "warnings.filterwarnings(\"ignore\", category=DeprecationWarning,\n",
    "module=\"pandas\", lineno=570)\n",
    "import numpy as np\n",
    "from scipy.spatial.distance import pdist, squareform\n",
    "from sklearn.model_selection import KFold\n",
    "from sklearn import svm\n",
    "from sklearn.metrics import accuracy_score\n",
    "import seaborn as sns\n",
    "import random"
   ]
  },
  {
   "cell_type": "code",
   "execution_count": 2,
   "metadata": {},
   "outputs": [],
   "source": [
    "# define seed so we get the same result\n",
    "random.seed(300)\n",
    "np.random.seed(300)"
   ]
  },
  {
   "cell_type": "markdown",
   "metadata": {},
   "source": [
    "-----------------------------------\n",
    "## Question 2- LSI"
   ]
  },
  {
   "cell_type": "code",
   "execution_count": 3,
   "metadata": {},
   "outputs": [
    {
     "data": {
      "text/html": [
       "<div>\n",
       "<style scoped>\n",
       "    .dataframe tbody tr th:only-of-type {\n",
       "        vertical-align: middle;\n",
       "    }\n",
       "\n",
       "    .dataframe tbody tr th {\n",
       "        vertical-align: top;\n",
       "    }\n",
       "\n",
       "    .dataframe thead th {\n",
       "        text-align: right;\n",
       "    }\n",
       "</style>\n",
       "<table border=\"1\" class=\"dataframe\">\n",
       "  <thead>\n",
       "    <tr style=\"text-align: right;\">\n",
       "      <th></th>\n",
       "      <th>cool</th>\n",
       "      <th>data</th>\n",
       "      <th>football</th>\n",
       "      <th>fun</th>\n",
       "      <th>great</th>\n",
       "      <th>learning</th>\n",
       "      <th>like</th>\n",
       "      <th>machine</th>\n",
       "      <th>python</th>\n",
       "      <th>science</th>\n",
       "      <th>statistics</th>\n",
       "      <th>super</th>\n",
       "      <th>watch</th>\n",
       "    </tr>\n",
       "  </thead>\n",
       "  <tbody>\n",
       "    <tr>\n",
       "      <th>Machine learning is super fun</th>\n",
       "      <td>0</td>\n",
       "      <td>0</td>\n",
       "      <td>0</td>\n",
       "      <td>1</td>\n",
       "      <td>0</td>\n",
       "      <td>1</td>\n",
       "      <td>0</td>\n",
       "      <td>1</td>\n",
       "      <td>0</td>\n",
       "      <td>0</td>\n",
       "      <td>0</td>\n",
       "      <td>1</td>\n",
       "      <td>0</td>\n",
       "    </tr>\n",
       "    <tr>\n",
       "      <th>Python is super, super cool</th>\n",
       "      <td>1</td>\n",
       "      <td>0</td>\n",
       "      <td>0</td>\n",
       "      <td>0</td>\n",
       "      <td>0</td>\n",
       "      <td>0</td>\n",
       "      <td>0</td>\n",
       "      <td>0</td>\n",
       "      <td>1</td>\n",
       "      <td>0</td>\n",
       "      <td>0</td>\n",
       "      <td>2</td>\n",
       "      <td>0</td>\n",
       "    </tr>\n",
       "    <tr>\n",
       "      <th>Statistics is cool, too</th>\n",
       "      <td>1</td>\n",
       "      <td>0</td>\n",
       "      <td>0</td>\n",
       "      <td>0</td>\n",
       "      <td>0</td>\n",
       "      <td>0</td>\n",
       "      <td>0</td>\n",
       "      <td>0</td>\n",
       "      <td>0</td>\n",
       "      <td>0</td>\n",
       "      <td>1</td>\n",
       "      <td>0</td>\n",
       "      <td>0</td>\n",
       "    </tr>\n",
       "    <tr>\n",
       "      <th>Data science is fun</th>\n",
       "      <td>0</td>\n",
       "      <td>1</td>\n",
       "      <td>0</td>\n",
       "      <td>1</td>\n",
       "      <td>0</td>\n",
       "      <td>0</td>\n",
       "      <td>0</td>\n",
       "      <td>0</td>\n",
       "      <td>0</td>\n",
       "      <td>1</td>\n",
       "      <td>0</td>\n",
       "      <td>0</td>\n",
       "      <td>0</td>\n",
       "    </tr>\n",
       "    <tr>\n",
       "      <th>Python is great for machine learning</th>\n",
       "      <td>0</td>\n",
       "      <td>0</td>\n",
       "      <td>0</td>\n",
       "      <td>0</td>\n",
       "      <td>1</td>\n",
       "      <td>1</td>\n",
       "      <td>0</td>\n",
       "      <td>1</td>\n",
       "      <td>1</td>\n",
       "      <td>0</td>\n",
       "      <td>0</td>\n",
       "      <td>0</td>\n",
       "      <td>0</td>\n",
       "    </tr>\n",
       "    <tr>\n",
       "      <th>I like football</th>\n",
       "      <td>0</td>\n",
       "      <td>0</td>\n",
       "      <td>1</td>\n",
       "      <td>0</td>\n",
       "      <td>0</td>\n",
       "      <td>0</td>\n",
       "      <td>1</td>\n",
       "      <td>0</td>\n",
       "      <td>0</td>\n",
       "      <td>0</td>\n",
       "      <td>0</td>\n",
       "      <td>0</td>\n",
       "      <td>0</td>\n",
       "    </tr>\n",
       "    <tr>\n",
       "      <th>Football is great to watch</th>\n",
       "      <td>0</td>\n",
       "      <td>0</td>\n",
       "      <td>1</td>\n",
       "      <td>0</td>\n",
       "      <td>1</td>\n",
       "      <td>0</td>\n",
       "      <td>0</td>\n",
       "      <td>0</td>\n",
       "      <td>0</td>\n",
       "      <td>0</td>\n",
       "      <td>0</td>\n",
       "      <td>0</td>\n",
       "      <td>1</td>\n",
       "    </tr>\n",
       "  </tbody>\n",
       "</table>\n",
       "</div>"
      ],
      "text/plain": [
       "                                      cool  data  football  fun  great  \\\n",
       "Machine learning is super fun            0     0         0    1      0   \n",
       "Python is super, super cool              1     0         0    0      0   \n",
       "Statistics is cool, too                  1     0         0    0      0   \n",
       "Data science is fun                      0     1         0    1      0   \n",
       "Python is great for machine learning     0     0         0    0      1   \n",
       "I like football                          0     0         1    0      0   \n",
       "Football is great to watch               0     0         1    0      1   \n",
       "\n",
       "                                      learning  like  machine  python  \\\n",
       "Machine learning is super fun                1     0        1       0   \n",
       "Python is super, super cool                  0     0        0       1   \n",
       "Statistics is cool, too                      0     0        0       0   \n",
       "Data science is fun                          0     0        0       0   \n",
       "Python is great for machine learning         1     0        1       1   \n",
       "I like football                              0     1        0       0   \n",
       "Football is great to watch                   0     0        0       0   \n",
       "\n",
       "                                      science  statistics  super  watch  \n",
       "Machine learning is super fun               0           0      1      0  \n",
       "Python is super, super cool                 0           0      2      0  \n",
       "Statistics is cool, too                     0           1      0      0  \n",
       "Data science is fun                         1           0      0      0  \n",
       "Python is great for machine learning        0           0      0      0  \n",
       "I like football                             0           0      0      0  \n",
       "Football is great to watch                  0           0      0      1  "
      ]
     },
     "execution_count": 3,
     "metadata": {},
     "output_type": "execute_result"
    }
   ],
   "source": [
    "# get the example that we will work on\n",
    "example = [\"Machine learning is super fun\",\n",
    "\"Python is super, super cool\",\n",
    "\"Statistics is cool, too\",\n",
    "\"Data science is fun\",\n",
    "\"Python is great for machine learning\",\n",
    "\"I like football\",\n",
    "\"Football is great to watch\"]\n",
    "# convert a collection of text documents to a matrix of token counts\n",
    "vectorizer = CountVectorizer(min_df = 1, stop_words = 'english')\n",
    "dtm = vectorizer.fit_transform(example)\n",
    "# convert the collection to data frame and show the first rows\n",
    "pd.DataFrame(dtm.toarray(),index=example,columns=vectorizer.get_feature_names()).head(10)"
   ]
  },
  {
   "cell_type": "code",
   "execution_count": 4,
   "metadata": {},
   "outputs": [
    {
     "data": {
      "text/plain": [
       "['cool',\n",
       " 'data',\n",
       " 'football',\n",
       " 'fun',\n",
       " 'great',\n",
       " 'learning',\n",
       " 'like',\n",
       " 'machine',\n",
       " 'python',\n",
       " 'science',\n",
       " 'statistics',\n",
       " 'super',\n",
       " 'watch']"
      ]
     },
     "execution_count": 4,
     "metadata": {},
     "output_type": "execute_result"
    }
   ],
   "source": [
    "# Get words that correspond to each column\n",
    "vectorizer.get_feature_names()"
   ]
  },
  {
   "cell_type": "code",
   "execution_count": 5,
   "metadata": {},
   "outputs": [],
   "source": [
    "# apply the svd so we get the singular values and vectors: U - documents, V- words\n",
    "U,S,V = svds(A=dtm.astype(float),k=2)"
   ]
  },
  {
   "cell_type": "code",
   "execution_count": 6,
   "metadata": {},
   "outputs": [
    {
     "name": "stdout",
     "output_type": "stream",
     "text": [
      "the singular values are\n",
      " [2.14559669 2.88718938] \n",
      "\n",
      "the U singular vectors are\n",
      " [[-0.22208598 -0.54463788]\n",
      " [ 0.56623808 -0.69822409]\n",
      " [ 0.21748399 -0.1102019 ]\n",
      " [-0.13849341 -0.1020712 ]\n",
      " [-0.56401528 -0.4314778 ]\n",
      " [-0.17763866 -0.01315189]\n",
      " [-0.46249738 -0.08332855]] \n",
      "\n",
      "the V singular vectors are\n",
      " [[ 0.36526998 -0.06454774 -0.29834872 -0.16805553 -0.47842759 -0.36637885\n",
      "  -0.08279219 -0.36637885  0.00103598 -0.06454774  0.10136294  0.42430629\n",
      "  -0.21555653]\n",
      " [-0.28000449 -0.03535314 -0.03341673 -0.22399261 -0.17830709 -0.33808509\n",
      "  -0.00455526 -0.33808509 -0.39128084 -0.03535314 -0.03816927 -0.67230992\n",
      "  -0.02886148]] \n",
      "\n"
     ]
    }
   ],
   "source": [
    "print ('the singular values are\\n',S,'\\n')\n",
    "print ('the U singular vectors are\\n',U,'\\n')\n",
    "print ('the V singular vectors are\\n',V,'\\n')"
   ]
  },
  {
   "cell_type": "code",
   "execution_count": 7,
   "metadata": {},
   "outputs": [
    {
     "data": {
      "text/plain": [
       "array([[-0.47650694, -1.57247271],\n",
       "       [ 1.21491855, -2.01590517],\n",
       "       [ 0.46663292, -0.31817376],\n",
       "       [-0.297151  , -0.29469888],\n",
       "       [-1.21014931, -1.24575812],\n",
       "       [-0.38114092, -0.03797199],\n",
       "       [-0.99233284, -0.2405853 ]])"
      ]
     },
     "execution_count": 7,
     "metadata": {},
     "output_type": "execute_result"
    }
   ],
   "source": [
    "# multiply the singular vectors of docs with the singular values\n",
    "docs = U*S\n",
    "docs"
   ]
  },
  {
   "cell_type": "code",
   "execution_count": 8,
   "metadata": {},
   "outputs": [],
   "source": [
    "# get the x,y in 2 lists (because the 2 dimension)\n",
    "docs_xs = [w[0] for w in docs]\n",
    "docs_ys = [w[1] for w in docs]"
   ]
  },
  {
   "cell_type": "code",
   "execution_count": 9,
   "metadata": {},
   "outputs": [
    {
     "data": {
      "text/html": [
       "<div>\n",
       "<style scoped>\n",
       "    .dataframe tbody tr th:only-of-type {\n",
       "        vertical-align: middle;\n",
       "    }\n",
       "\n",
       "    .dataframe tbody tr th {\n",
       "        vertical-align: top;\n",
       "    }\n",
       "\n",
       "    .dataframe thead th {\n",
       "        text-align: right;\n",
       "    }\n",
       "</style>\n",
       "<table border=\"1\" class=\"dataframe\">\n",
       "  <thead>\n",
       "    <tr style=\"text-align: right;\">\n",
       "      <th></th>\n",
       "      <th>Machine learning is super fun</th>\n",
       "      <th>Python is super, super cool</th>\n",
       "      <th>Statistics is cool, too</th>\n",
       "      <th>Data science is fun</th>\n",
       "      <th>Python is great for machine learning</th>\n",
       "      <th>I like football</th>\n",
       "      <th>Football is great to watch</th>\n",
       "    </tr>\n",
       "  </thead>\n",
       "  <tbody>\n",
       "    <tr>\n",
       "      <th>component_1</th>\n",
       "      <td>-0.476507</td>\n",
       "      <td>1.214919</td>\n",
       "      <td>0.466633</td>\n",
       "      <td>-0.297151</td>\n",
       "      <td>-1.210149</td>\n",
       "      <td>-0.381141</td>\n",
       "      <td>-0.992333</td>\n",
       "    </tr>\n",
       "    <tr>\n",
       "      <th>component_2</th>\n",
       "      <td>-1.572473</td>\n",
       "      <td>-2.015905</td>\n",
       "      <td>-0.318174</td>\n",
       "      <td>-0.294699</td>\n",
       "      <td>-1.245758</td>\n",
       "      <td>-0.037972</td>\n",
       "      <td>-0.240585</td>\n",
       "    </tr>\n",
       "  </tbody>\n",
       "</table>\n",
       "</div>"
      ],
      "text/plain": [
       "             Machine learning is super fun  Python is super, super cool  \\\n",
       "component_1                      -0.476507                     1.214919   \n",
       "component_2                      -1.572473                    -2.015905   \n",
       "\n",
       "             Statistics is cool, too  Data science is fun  \\\n",
       "component_1                 0.466633            -0.297151   \n",
       "component_2                -0.318174            -0.294699   \n",
       "\n",
       "             Python is great for machine learning  I like football  \\\n",
       "component_1                             -1.210149        -0.381141   \n",
       "component_2                             -1.245758        -0.037972   \n",
       "\n",
       "             Football is great to watch  \n",
       "component_1                   -0.992333  \n",
       "component_2                   -0.240585  "
      ]
     },
     "execution_count": 9,
     "metadata": {},
     "output_type": "execute_result"
    }
   ],
   "source": [
    "# change it into dataframe\n",
    "docs_svd_df=pd.DataFrame(docs.T,index = [\"component_1\",\"component_2\"],columns =example)\n",
    "docs_svd_df"
   ]
  },
  {
   "cell_type": "code",
   "execution_count": 10,
   "metadata": {},
   "outputs": [
    {
     "data": {
      "text/plain": [
       "array([[ 0.78372206, -0.80842599],\n",
       "       [-0.13849341, -0.1020712 ],\n",
       "       [-0.64013603, -0.09648044],\n",
       "       [-0.36057939, -0.64670908],\n",
       "       [-1.02651265, -0.51480635],\n",
       "       [-0.78610126, -0.97611568],\n",
       "       [-0.17763866, -0.01315189],\n",
       "       [-0.78610126, -0.97611568],\n",
       "       [ 0.0022228 , -1.12970189],\n",
       "       [-0.13849341, -0.1020712 ],\n",
       "       [ 0.21748399, -0.1102019 ],\n",
       "       [ 0.91039018, -1.94108606],\n",
       "       [-0.46249738, -0.08332855]])"
      ]
     },
     "execution_count": 10,
     "metadata": {},
     "output_type": "execute_result"
    }
   ],
   "source": [
    "# multiply the singular values with the singular vectors of words\n",
    "words = S*V.T\n",
    "words"
   ]
  },
  {
   "cell_type": "code",
   "execution_count": 11,
   "metadata": {},
   "outputs": [],
   "source": [
    "# get the x,y in 2 lists (because the 2 dimension)\n",
    "words_xs = [w[0] for w in words]\n",
    "words_ys = [w[1] for w in words]"
   ]
  },
  {
   "cell_type": "code",
   "execution_count": 12,
   "metadata": {},
   "outputs": [
    {
     "data": {
      "text/html": [
       "<div>\n",
       "<style scoped>\n",
       "    .dataframe tbody tr th:only-of-type {\n",
       "        vertical-align: middle;\n",
       "    }\n",
       "\n",
       "    .dataframe tbody tr th {\n",
       "        vertical-align: top;\n",
       "    }\n",
       "\n",
       "    .dataframe thead th {\n",
       "        text-align: right;\n",
       "    }\n",
       "</style>\n",
       "<table border=\"1\" class=\"dataframe\">\n",
       "  <thead>\n",
       "    <tr style=\"text-align: right;\">\n",
       "      <th></th>\n",
       "      <th>cool</th>\n",
       "      <th>data</th>\n",
       "      <th>football</th>\n",
       "      <th>fun</th>\n",
       "      <th>great</th>\n",
       "      <th>learning</th>\n",
       "      <th>like</th>\n",
       "      <th>machine</th>\n",
       "      <th>python</th>\n",
       "      <th>science</th>\n",
       "      <th>statistics</th>\n",
       "      <th>super</th>\n",
       "      <th>watch</th>\n",
       "    </tr>\n",
       "  </thead>\n",
       "  <tbody>\n",
       "    <tr>\n",
       "      <th>component_1</th>\n",
       "      <td>0.783722</td>\n",
       "      <td>-0.138493</td>\n",
       "      <td>-0.640136</td>\n",
       "      <td>-0.360579</td>\n",
       "      <td>-1.026513</td>\n",
       "      <td>-0.786101</td>\n",
       "      <td>-0.177639</td>\n",
       "      <td>-0.786101</td>\n",
       "      <td>0.002223</td>\n",
       "      <td>-0.138493</td>\n",
       "      <td>0.217484</td>\n",
       "      <td>0.910390</td>\n",
       "      <td>-0.462497</td>\n",
       "    </tr>\n",
       "    <tr>\n",
       "      <th>component_2</th>\n",
       "      <td>-0.808426</td>\n",
       "      <td>-0.102071</td>\n",
       "      <td>-0.096480</td>\n",
       "      <td>-0.646709</td>\n",
       "      <td>-0.514806</td>\n",
       "      <td>-0.976116</td>\n",
       "      <td>-0.013152</td>\n",
       "      <td>-0.976116</td>\n",
       "      <td>-1.129702</td>\n",
       "      <td>-0.102071</td>\n",
       "      <td>-0.110202</td>\n",
       "      <td>-1.941086</td>\n",
       "      <td>-0.083329</td>\n",
       "    </tr>\n",
       "  </tbody>\n",
       "</table>\n",
       "</div>"
      ],
      "text/plain": [
       "                 cool      data  football       fun     great  learning  \\\n",
       "component_1  0.783722 -0.138493 -0.640136 -0.360579 -1.026513 -0.786101   \n",
       "component_2 -0.808426 -0.102071 -0.096480 -0.646709 -0.514806 -0.976116   \n",
       "\n",
       "                 like   machine    python   science  statistics     super  \\\n",
       "component_1 -0.177639 -0.786101  0.002223 -0.138493    0.217484  0.910390   \n",
       "component_2 -0.013152 -0.976116 -1.129702 -0.102071   -0.110202 -1.941086   \n",
       "\n",
       "                watch  \n",
       "component_1 -0.462497  \n",
       "component_2 -0.083329  "
      ]
     },
     "execution_count": 12,
     "metadata": {},
     "output_type": "execute_result"
    }
   ],
   "source": [
    "# change it into dataframe\n",
    "words_svd_df=pd.DataFrame(words.T,index = [\"component_1\",\"component_2\"],columns =vectorizer.get_feature_names())\n",
    "words_svd_df"
   ]
  },
  {
   "cell_type": "code",
   "execution_count": 13,
   "metadata": {},
   "outputs": [
    {
     "name": "stdout",
     "output_type": "stream",
     "text": [
      "Populating the interactive namespace from numpy and matplotlib\n"
     ]
    },
    {
     "name": "stderr",
     "output_type": "stream",
     "text": [
      "C:\\Users\\Tamara\\anaconda3\\lib\\site-packages\\IPython\\core\\magics\\pylab.py:159: UserWarning: pylab import has clobbered these variables: ['random']\n",
      "`%matplotlib` prevents importing * from pylab and numpy\n",
      "  warn(\"pylab import has clobbered these variables: %s\"  % clobbered +\n"
     ]
    },
    {
     "data": {
      "image/png": "[encoded data removed]",
      "text/plain": [
       "<Figure size 432x288 with 1 Axes>"
      ]
     },
     "metadata": {
      "needs_background": "light"
     },
     "output_type": "display_data"
    }
   ],
   "source": [
    "# Plot scatter plot of points\n",
    "%pylab inline\n",
    "import matplotlib.pyplot as plt\n",
    "figure()\n",
    "plt.scatter(docs_xs,docs_ys,label='docs',color='b')\n",
    "plt.scatter(words_xs,words_ys,label='words',c='g')\n",
    "plt.legend()\n",
    "xlabel('First principal component')\n",
    "ylabel('Second principal component')\n",
    "title('Plot of points against LSA principal components')\n",
    "show()"
   ]
  },
  {
   "cell_type": "code",
   "execution_count": 14,
   "metadata": {},
   "outputs": [
    {
     "name": "stdout",
     "output_type": "stream",
     "text": [
      "Populating the interactive namespace from numpy and matplotlib\n"
     ]
    },
    {
     "data": {
      "image/png": "[encoded data removed]",
      "text/plain": [
       "<Figure size 432x288 with 1 Axes>"
      ]
     },
     "metadata": {
      "needs_background": "light"
     },
     "output_type": "display_data"
    },
    {
     "name": "stdout",
     "output_type": "stream",
     "text": [
      "The closest document is:\n"
     ]
    },
    {
     "data": {
      "text/plain": [
       "'Data science is fun'"
      ]
     },
     "execution_count": 14,
     "metadata": {},
     "output_type": "execute_result"
    }
   ],
   "source": [
    "# this a function receives 2 words query,locates the query in the embedded space and returns the name of the closest documents.\n",
    "def draw_new_words(query,words_svd_df,docs_svd_df):\n",
    "    global docs_xs,docs_ys,words_xs,words_ys\n",
    "    x=0\n",
    "    y=0\n",
    "    counter=len(query)\n",
    "    for elem in query:\n",
    "        # check if we have the word\n",
    "        if elem not in words_svd_df.columns: \n",
    "            return 'Error, unfamiliar word'\n",
    "        else:\n",
    "            x+=words_svd_df[elem]['component_1']\n",
    "            y+=words_svd_df[elem]['component_2']\n",
    "    # calc the avarge x, y of the query\n",
    "    x/=counter\n",
    "    y/=counter\n",
    "    q=np.array([x,y])\n",
    "    min_dist=np.inf # intial the distance\n",
    "    doc_name=None\n",
    "    # find the closest document \n",
    "    for doc in docs_svd_df.columns:\n",
    "        if np.linalg.norm(q-np.array(docs_svd_df[doc]))<min_dist: # if the disance is smaller update the distance and the document name\n",
    "            min_dist=np.linalg.norm(q-docs_svd_df[doc])\n",
    "            doc_name=doc\n",
    "    # plot the figure\n",
    "    %pylab inline\n",
    "    figure()\n",
    "    plt.scatter(docs_xs,docs_ys,label='docs',color='b') # plot the document in blue\n",
    "    plt.scatter(words_xs,words_ys,label='words',c='g')  # plot the words in green\n",
    "    plt.scatter(x,y,marker='x',c='r') # mark the query with X sign in red\n",
    "    plt.scatter(words_svd_df[query[0]]['component_1'],words_svd_df[query[0]]['component_2'],s=250,marker='o',facecolors='none',edgecolors='r') # mark the word \n",
    "    plt.scatter(words_svd_df[query[1]]['component_1'],words_svd_df[query[1]]['component_2'],s=250,marker='o',facecolors='none',edgecolors='r') # mark the word\n",
    "    plt.scatter(docs_svd_df[doc_name]['component_1'],docs_svd_df[doc_name]['component_2'],s=250,marker='o',facecolors='none',edgecolors='r') # mark the clossest document\n",
    "    plt.legend()\n",
    "    xlabel('First principal component')\n",
    "    ylabel('Second principal component')\n",
    "    title('Plot of points against LSA principal components')\n",
    "    show()\n",
    "    print('The closest document is:')\n",
    "    return doc_name\n",
    "            \n",
    "        \n",
    "draw_new_words(['data','fun'],words_svd_df,docs_svd_df)           \n",
    "            \n",
    "    "
   ]
  },
  {
   "cell_type": "markdown",
   "metadata": {},
   "source": [
    "# Q3"
   ]
  },
  {
   "cell_type": "code",
   "execution_count": 33,
   "metadata": {},
   "outputs": [],
   "source": [
    "def myDM(data,C,d):\n",
    "    square_matrix=squareform(pdist(data))          # Calculating a distances matrix\n",
    "    max_value=square_matrix.max()                  # Find the maximum value of the matrix\n",
    "    np.fill_diagonal(square_matrix,max_value)      # Replace th ediagonal with the maximum value of the matrix\n",
    "    epsilon = max(square_matrix.min(axis=1))       # Calculating epsilon\n",
    "    W = np.exp((-square_matrix**2)/(C*epsilon))    # Computing W\n",
    "    D=np.sum(W,axis=1)                             # \n",
    "    P = W/(D[:,None])                              # Calculate the Markov matrix\n",
    "    U,S,V = np.linalg.svd(P) # The np.linalg returns the values in descending order. Therefore, we didn't sort it.\n",
    "\n",
    "    return U[:,1:d+1]*S[1:d+1]"
   ]
  },
  {
   "cell_type": "code",
   "execution_count": 34,
   "metadata": {},
   "outputs": [
    {
     "data": {
      "text/html": [
       "<div>\n",
       "<style scoped>\n",
       "    .dataframe tbody tr th:only-of-type {\n",
       "        vertical-align: middle;\n",
       "    }\n",
       "\n",
       "    .dataframe tbody tr th {\n",
       "        vertical-align: top;\n",
       "    }\n",
       "\n",
       "    .dataframe thead th {\n",
       "        text-align: right;\n",
       "    }\n",
       "</style>\n",
       "<table border=\"1\" class=\"dataframe\">\n",
       "  <thead>\n",
       "    <tr style=\"text-align: right;\">\n",
       "      <th></th>\n",
       "      <th>0</th>\n",
       "      <th>1</th>\n",
       "    </tr>\n",
       "  </thead>\n",
       "  <tbody>\n",
       "    <tr>\n",
       "      <th>0</th>\n",
       "      <td>0.348610</td>\n",
       "      <td>-0.787010</td>\n",
       "    </tr>\n",
       "    <tr>\n",
       "      <th>1</th>\n",
       "      <td>1.303500</td>\n",
       "      <td>-1.088600</td>\n",
       "    </tr>\n",
       "    <tr>\n",
       "      <th>2</th>\n",
       "      <td>-0.067487</td>\n",
       "      <td>0.032684</td>\n",
       "    </tr>\n",
       "    <tr>\n",
       "      <th>3</th>\n",
       "      <td>-1.307500</td>\n",
       "      <td>1.993000</td>\n",
       "    </tr>\n",
       "    <tr>\n",
       "      <th>4</th>\n",
       "      <td>-0.760840</td>\n",
       "      <td>-0.921330</td>\n",
       "    </tr>\n",
       "  </tbody>\n",
       "</table>\n",
       "</div>"
      ],
      "text/plain": [
       "          0         1\n",
       "0  0.348610 -0.787010\n",
       "1  1.303500 -1.088600\n",
       "2 -0.067487  0.032684\n",
       "3 -1.307500  1.993000\n",
       "4 -0.760840 -0.921330"
      ]
     },
     "execution_count": 34,
     "metadata": {},
     "output_type": "execute_result"
    }
   ],
   "source": [
    "df=pd.read_csv('two_circles_data.csv',header=None) # read the data\n",
    "df.head()"
   ]
  },
  {
   "cell_type": "code",
   "execution_count": 53,
   "metadata": {},
   "outputs": [],
   "source": [
    "new_df = myDM(df,0.5,3) "
   ]
  },
  {
   "cell_type": "code",
   "execution_count": 54,
   "metadata": {},
   "outputs": [
    {
     "data": {
      "text/plain": [
       "array([[ 0.00361063, -0.0008312 ,  0.01058482],\n",
       "       [ 0.00239596, -0.00053448,  0.00785159],\n",
       "       [ 0.00421124, -0.00091999,  0.01137613],\n",
       "       ...,\n",
       "       [-0.0210917 ,  0.02076912,  0.01338034],\n",
       "       [-0.02101493,  0.02088746,  0.01330986],\n",
       "       [-0.02090285,  0.0209712 ,  0.01321746]])"
      ]
     },
     "execution_count": 54,
     "metadata": {},
     "output_type": "execute_result"
    }
   ],
   "source": [
    "new_df"
   ]
  },
  {
   "cell_type": "code",
   "execution_count": 55,
   "metadata": {},
   "outputs": [
    {
     "data": {
      "image/png": "[encoded data removed]",
      "text/plain": [
       "<Figure size 432x288 with 1 Axes>"
      ]
     },
     "metadata": {
      "needs_background": "light"
     },
     "output_type": "display_data"
    }
   ],
   "source": [
    "kmeans = KMeans(n_clusters=2) # use K-mean with k=2\n",
    "# predict the 2 groups and plot each group in difftent color \n",
    "label = kmeans.fit_predict(df) \n",
    "df['label']=label\n",
    "label1=df[df['label']==1]\n",
    "label0=df[df['label']==0]\n",
    "figure()\n",
    "plt.scatter(label1[0],label1[1],color='b')\n",
    "plt.scatter(label0[0],label0[1],c='g')\n",
    "title('Kmeans for K=2')\n",
    "show()"
   ]
  },
  {
   "cell_type": "code",
   "execution_count": 57,
   "metadata": {},
   "outputs": [
    {
     "data": {
      "image/png": "[encoded data removed]",
      "text/plain": [
       "<Figure size 432x288 with 1 Axes>"
      ]
     },
     "metadata": {
      "needs_background": "light"
     },
     "output_type": "display_data"
    }
   ],
   "source": [
    "# for C=0.5\n",
    "df['Fiedler_vector']=new_df[:,0]  # take the first vector to be the Fiedler_vector\n",
    "df['label']=df.Fiedler_vector.apply(lambda x: 0 if x<0 else 1) # label for each point is the sign of the Fiedler_vector\n",
    "# plot the points in the original data \n",
    "label1=df[df['label']==1]\n",
    "label0=df[df['label']==0]\n",
    "figure()\n",
    "plt.scatter(label1[0],label1[1],color='b')\n",
    "plt.scatter(label0[0],label0[1],c='g')\n",
    "title('Clustering with the Fiedler vector')\n",
    "show()"
   ]
  },
  {
   "cell_type": "code",
   "execution_count": 60,
   "metadata": {},
   "outputs": [
    {
     "data": {
      "image/png": "[encoded data removed]",
      "text/plain": [
       "<Figure size 432x288 with 1 Axes>"
      ]
     },
     "metadata": {
      "needs_background": "light"
     },
     "output_type": "display_data"
    }
   ],
   "source": [
    "new_df = myDM(df,2,3) # for C=2 \n",
    "df['Fiedler_vector']=new_df[:,0]  # take the first vector to be the Fiedler_vector\n",
    "df['label']=df.Fiedler_vector.apply(lambda x: 0 if x<0 else 1) # label for each point is the sign of the Fiedler_vector\n",
    "# plot the points in the original data \n",
    "label1=df[df['label']==1]\n",
    "label0=df[df['label']==0]\n",
    "figure()\n",
    "plt.scatter(label1[0],label1[1],color='b')\n",
    "plt.scatter(label0[0],label0[1],c='g')\n",
    "title('Clustering with the Fiedler vector')\n",
    "show()"
   ]
  },
  {
   "cell_type": "markdown",
   "metadata": {},
   "source": [
    "# Q4"
   ]
  },
  {
   "cell_type": "code",
   "execution_count": 19,
   "metadata": {},
   "outputs": [
    {
     "data": {
      "text/html": [
       "<div>\n",
       "<style scoped>\n",
       "    .dataframe tbody tr th:only-of-type {\n",
       "        vertical-align: middle;\n",
       "    }\n",
       "\n",
       "    .dataframe tbody tr th {\n",
       "        vertical-align: top;\n",
       "    }\n",
       "\n",
       "    .dataframe thead th {\n",
       "        text-align: right;\n",
       "    }\n",
       "</style>\n",
       "<table border=\"1\" class=\"dataframe\">\n",
       "  <thead>\n",
       "    <tr style=\"text-align: right;\">\n",
       "      <th></th>\n",
       "      <th>0</th>\n",
       "      <th>1</th>\n",
       "      <th>2</th>\n",
       "      <th>3</th>\n",
       "      <th>4</th>\n",
       "      <th>5</th>\n",
       "      <th>6</th>\n",
       "      <th>7</th>\n",
       "      <th>8</th>\n",
       "      <th>9</th>\n",
       "      <th>...</th>\n",
       "      <th>9990</th>\n",
       "      <th>9991</th>\n",
       "      <th>9992</th>\n",
       "      <th>9993</th>\n",
       "      <th>9994</th>\n",
       "      <th>9995</th>\n",
       "      <th>9996</th>\n",
       "      <th>9997</th>\n",
       "      <th>9998</th>\n",
       "      <th>9999</th>\n",
       "    </tr>\n",
       "  </thead>\n",
       "  <tbody>\n",
       "    <tr>\n",
       "      <th>0</th>\n",
       "      <td>0</td>\n",
       "      <td>71</td>\n",
       "      <td>0</td>\n",
       "      <td>95</td>\n",
       "      <td>0</td>\n",
       "      <td>538</td>\n",
       "      <td>404</td>\n",
       "      <td>20</td>\n",
       "      <td>0</td>\n",
       "      <td>0</td>\n",
       "      <td>...</td>\n",
       "      <td>255</td>\n",
       "      <td>570</td>\n",
       "      <td>86</td>\n",
       "      <td>0</td>\n",
       "      <td>36</td>\n",
       "      <td>0</td>\n",
       "      <td>80</td>\n",
       "      <td>0</td>\n",
       "      <td>0</td>\n",
       "      <td>524</td>\n",
       "    </tr>\n",
       "    <tr>\n",
       "      <th>1</th>\n",
       "      <td>0</td>\n",
       "      <td>41</td>\n",
       "      <td>82</td>\n",
       "      <td>165</td>\n",
       "      <td>60</td>\n",
       "      <td>554</td>\n",
       "      <td>379</td>\n",
       "      <td>0</td>\n",
       "      <td>71</td>\n",
       "      <td>0</td>\n",
       "      <td>...</td>\n",
       "      <td>213</td>\n",
       "      <td>605</td>\n",
       "      <td>69</td>\n",
       "      <td>7</td>\n",
       "      <td>473</td>\n",
       "      <td>0</td>\n",
       "      <td>57</td>\n",
       "      <td>0</td>\n",
       "      <td>284</td>\n",
       "      <td>423</td>\n",
       "    </tr>\n",
       "    <tr>\n",
       "      <th>2</th>\n",
       "      <td>0</td>\n",
       "      <td>0</td>\n",
       "      <td>1</td>\n",
       "      <td>40</td>\n",
       "      <td>0</td>\n",
       "      <td>451</td>\n",
       "      <td>402</td>\n",
       "      <td>0</td>\n",
       "      <td>0</td>\n",
       "      <td>0</td>\n",
       "      <td>...</td>\n",
       "      <td>235</td>\n",
       "      <td>593</td>\n",
       "      <td>28</td>\n",
       "      <td>0</td>\n",
       "      <td>24</td>\n",
       "      <td>0</td>\n",
       "      <td>90</td>\n",
       "      <td>0</td>\n",
       "      <td>34</td>\n",
       "      <td>508</td>\n",
       "    </tr>\n",
       "    <tr>\n",
       "      <th>3</th>\n",
       "      <td>0</td>\n",
       "      <td>56</td>\n",
       "      <td>44</td>\n",
       "      <td>275</td>\n",
       "      <td>14</td>\n",
       "      <td>511</td>\n",
       "      <td>470</td>\n",
       "      <td>0</td>\n",
       "      <td>0</td>\n",
       "      <td>0</td>\n",
       "      <td>...</td>\n",
       "      <td>91</td>\n",
       "      <td>600</td>\n",
       "      <td>0</td>\n",
       "      <td>26</td>\n",
       "      <td>86</td>\n",
       "      <td>0</td>\n",
       "      <td>102</td>\n",
       "      <td>0</td>\n",
       "      <td>0</td>\n",
       "      <td>469</td>\n",
       "    </tr>\n",
       "    <tr>\n",
       "      <th>4</th>\n",
       "      <td>105</td>\n",
       "      <td>0</td>\n",
       "      <td>141</td>\n",
       "      <td>348</td>\n",
       "      <td>0</td>\n",
       "      <td>268</td>\n",
       "      <td>329</td>\n",
       "      <td>0</td>\n",
       "      <td>0</td>\n",
       "      <td>1</td>\n",
       "      <td>...</td>\n",
       "      <td>813</td>\n",
       "      <td>0</td>\n",
       "      <td>0</td>\n",
       "      <td>0</td>\n",
       "      <td>0</td>\n",
       "      <td>190</td>\n",
       "      <td>301</td>\n",
       "      <td>0</td>\n",
       "      <td>0</td>\n",
       "      <td>354</td>\n",
       "    </tr>\n",
       "  </tbody>\n",
       "</table>\n",
       "<p>5 rows × 10000 columns</p>\n",
       "</div>"
      ],
      "text/plain": [
       "   0     1     2     3     4     5     6     7     8     9     ...  9990  \\\n",
       "0     0    71     0    95     0   538   404    20     0     0  ...   255   \n",
       "1     0    41    82   165    60   554   379     0    71     0  ...   213   \n",
       "2     0     0     1    40     0   451   402     0     0     0  ...   235   \n",
       "3     0    56    44   275    14   511   470     0     0     0  ...    91   \n",
       "4   105     0   141   348     0   268   329     0     0     1  ...   813   \n",
       "\n",
       "   9991  9992  9993  9994  9995  9996  9997  9998  9999  \n",
       "0   570    86     0    36     0    80     0     0   524  \n",
       "1   605    69     7   473     0    57     0   284   423  \n",
       "2   593    28     0    24     0    90     0    34   508  \n",
       "3   600     0    26    86     0   102     0     0   469  \n",
       "4     0     0     0     0   190   301     0     0   354  \n",
       "\n",
       "[5 rows x 10000 columns]"
      ]
     },
     "execution_count": 19,
     "metadata": {},
     "output_type": "execute_result"
    }
   ],
   "source": [
    "df=pd.read_csv('Arcene_data.csv',header=None) # read the data\n",
    "label=pd.read_csv('Arcene_label.csv',header=None) # read the labels\n",
    "df.head()"
   ]
  },
  {
   "cell_type": "code",
   "execution_count": 20,
   "metadata": {},
   "outputs": [],
   "source": [
    "# this function uses the numpy function randn to create the random projection matrix\n",
    "def projected_matrix(df,d):\n",
    "    R = np.random.randn(d, 10000)\n",
    "    l2norm=np.sqrt((R*R).sum(axis=1))\n",
    "    R = R/l2norm.reshape(d,1)\n",
    "    return np.matmul(df.to_numpy(),R.T)"
   ]
  },
  {
   "cell_type": "code",
   "execution_count": 21,
   "metadata": {},
   "outputs": [],
   "source": [
    "d=800\n",
    "P=projected_matrix(df,d)"
   ]
  },
  {
   "cell_type": "code",
   "execution_count": 22,
   "metadata": {},
   "outputs": [
    {
     "name": "stdout",
     "output_type": "stream",
     "text": [
      "The Euclidean distance in the original space is : 12360.842487468239\n",
      "The Euclidean distance in the reduced space is : 3404.8140765679436\n",
      "The ratio between the two distances is : 3.6304016047560466\n"
     ]
    }
   ],
   "source": [
    "# we choose points 22 and 43\n",
    "point_22_p =P[22,:] \n",
    "point_43_p = P[43,:] \n",
    "point_22_df = df.iloc[22,:] \n",
    "point_43_df = df.iloc[43,:] \n",
    "dist_p = numpy.linalg.norm(point_22_p-point_43_p) # distance of the point in the projection df\n",
    "dist_df = numpy.linalg.norm(point_22_df-point_43_df) # distance of the point in the original df\n",
    "\n",
    "print('The Euclidean distance in the original space is :',dist_df)\n",
    "print('The Euclidean distance in the reduced space is :',dist_p)\n",
    "print('The ratio between the two distances is :',dist_df/dist_p) "
   ]
  },
  {
   "cell_type": "code",
   "execution_count": 23,
   "metadata": {},
   "outputs": [],
   "source": [
    "# this function get a df and project the df with the number of d's.\n",
    "# then we compute 10 folds, for each fold we use fit with svm and calc the accuracy of the test for the original data and the projected data.\n",
    "# finally we return the mean accuracy. \n",
    "def compare_accuracy(df,label,d):\n",
    "    P=pd.DataFrame(projected_matrix(df,d)) # get the projected df\n",
    "    acc_proj_lst=[] \n",
    "    acc_origin_lst=[]\n",
    "    kf=KFold(n_splits=10,shuffle=True) # run 10 times kfold\n",
    "    for train_index,test_index in kf.split(df):\n",
    "        # the train and test data of the original and the projected data\n",
    "        origin_train, origin_test = df.iloc[train_index], df.iloc[test_index]\n",
    "        P_train, P_test = P.iloc[train_index], P.iloc[test_index]\n",
    "        train_labels=label.iloc[train_index]\n",
    "        test_labels=label.iloc[test_index]\n",
    "        \n",
    "        # use SVM classifier\n",
    "        clf_origin=svm.SVC()\n",
    "        clf_P=svm.SVC()\n",
    "        clf_origin.fit(origin_train,train_labels.values.ravel())\n",
    "        clf_P.fit(P_train,train_labels.values.ravel())\n",
    "        \n",
    "        # predict the test set\n",
    "        origin_predict = clf_origin.predict(origin_test)\n",
    "        P_predict = clf_P.predict(P_test)\n",
    "\n",
    "        # calc the accuracy and append the the list of the accuracy \n",
    "        acc_origin=accuracy_score(test_labels[0], origin_predict)\n",
    "        acc_origin_lst.append(acc_origin)\n",
    "        acc_P=accuracy_score(test_labels[0], P_predict)\n",
    "        acc_proj_lst.append(acc_P)\n",
    "    print('The average accuracy on the original data is :',sum(acc_origin_lst)/len(acc_origin_lst))\n",
    "    print('The average accuracy on the projected data is :',sum(acc_proj_lst)/len(acc_proj_lst))\n",
    "    # return the mean accuracy \n",
    "    return (sum(acc_origin_lst)/len(acc_origin_lst),sum(acc_proj_lst)/len(acc_proj_lst))\n"
   ]
  },
  {
   "cell_type": "code",
   "execution_count": 24,
   "metadata": {},
   "outputs": [
    {
     "name": "stdout",
     "output_type": "stream",
     "text": [
      "The average accuracy on the original data is : 0.6900000000000001\n",
      "The average accuracy on the projected data is : 0.6799999999999999\n"
     ]
    },
    {
     "data": {
      "text/plain": [
       "(0.6900000000000001, 0.6799999999999999)"
      ]
     },
     "execution_count": 24,
     "metadata": {},
     "output_type": "execute_result"
    }
   ],
   "source": [
    "compare_accuracy(df,label,800)"
   ]
  },
  {
   "cell_type": "code",
   "execution_count": 25,
   "metadata": {},
   "outputs": [
    {
     "name": "stdout",
     "output_type": "stream",
     "text": [
      "The average accuracy on the original data is : 0.6599999999999999\n",
      "The average accuracy on the projected data is : 0.6299999999999999\n",
      "The average accuracy on the original data is : 0.66\n",
      "The average accuracy on the projected data is : 0.62\n",
      "The average accuracy on the original data is : 0.6599999999999999\n",
      "The average accuracy on the projected data is : 0.61\n",
      "The average accuracy on the original data is : 0.7\n",
      "The average accuracy on the projected data is : 0.6499999999999999\n",
      "The average accuracy on the original data is : 0.64\n",
      "The average accuracy on the projected data is : 0.6300000000000001\n",
      "The average accuracy on the original data is : 0.6399999999999999\n",
      "The average accuracy on the projected data is : 0.62\n"
     ]
    }
   ],
   "source": [
    "origin_acc_for_d=[]\n",
    "proj_acc_for_d=[]\n",
    "# calc the accuracy for each d\n",
    "for d in range(500,1100,100):\n",
    "    result=compare_accuracy(df,label,d)\n",
    "    origin_acc_for_d.append(result[0])\n",
    "    proj_acc_for_d.append(result[1])"
   ]
  },
  {
   "cell_type": "code",
   "execution_count": 26,
   "metadata": {},
   "outputs": [
    {
     "data": {
      "image/png": "[encoded data removed]",
      "text/plain": [
       "<Figure size 432x288 with 1 Axes>"
      ]
     },
     "metadata": {
      "needs_background": "light"
     },
     "output_type": "display_data"
    }
   ],
   "source": [
    "# plot the accuracy of the original and projected data for each d\n",
    "dic={'origin':origin_acc_for_d,'proj':proj_acc_for_d,'d':[500,600,700,800,900,1000]}\n",
    "pd.DataFrame(dic).set_index('d').plot()\n",
    "ylabel('Accuracy')\n",
    "title('Accuracy for the original data and the projected data for different values of d')\n",
    "show()"
   ]
  }
 ],
 "metadata": {
  "kernelspec": {
   "display_name": "Python 3",
   "language": "python",
   "name": "python3"
  },
  "language_info": {
   "codemirror_mode": {
    "name": "ipython",
    "version": 3
   },
   "file_extension": ".py",
   "mimetype": "text/x-python",
   "name": "python",
   "nbconvert_exporter": "python",
   "pygments_lexer": "ipython3",
   "version": "3.8.5"
  }
 },
 "nbformat": 4,
 "nbformat_minor": 4
}
