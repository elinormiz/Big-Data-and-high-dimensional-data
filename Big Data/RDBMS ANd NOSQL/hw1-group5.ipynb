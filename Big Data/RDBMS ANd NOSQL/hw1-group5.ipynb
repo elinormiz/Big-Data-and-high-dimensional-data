{
 "cells": [
  {
   "cell_type": "markdown",
   "metadata": {
    "colab_type": "text",
    "collapsed": true,
    "id": "Qekvc2TRKAx0"
   },
   "source": [
    "# Homework 1- Group 5"
   ]
  },
  {
   "cell_type": "markdown",
   "metadata": {
    "colab_type": "text",
    "id": "p77gFJHRKAx7"
   },
   "source": [
    "### Descripition on model and choices\n",
    "\n",
    "<b> MongoDB: </b> <br> \n",
    "We use the mongoDB to store 3 types of data in 1 collection. The 3 types are: <br>\n",
    "- companies: save details on company- Company Name, Company Description, Jobs List\n",
    "- jobs: save details on job- Job Id, Job Title, Location, Requirements List, Publish Date, Status, Applications List\n",
    "- applications: save details on application- Candidate Name, Email, LinkedIn URL, Skills List, Application Date\n",
    "\n",
    "For use 1 collection we save for each company a list of all the jobs it has and for each job a list of all the applications it has. <br><br>\n",
    "\n",
    "<b> Redis: </b> <br> \n",
    "We use the RedisDB to store attributes that we could read in fast way. In the mongoDB we don't know the meaning of the values so it more difficult to scan and search a string/number in the value. Therefore, all the data that we could get from calling his key that was difficilut to search in the MongoDB we save in the redis.\n",
    "<br> All the attributes we save in the redis are:\n",
    "- for each comapny name we save the last job id we used.\n",
    "- for each company name we save the jobs id where the status is open\n",
    "- for each location's and title's job we save the job id and company name that answer this details and with open status\n",
    "- for each company name, specific job and specific email's candidate we save the number of same skills (skill and requierment)\n",
    "\n",
    "<br> as we said before, all this attributes are complex and redis allow as to get the value faster then mongoDB,\n",
    "\n",
    "-----------------------------------"
   ]
  },
  {
   "cell_type": "markdown",
   "metadata": {},
   "source": [
    "<b> Assumptions: </b>\n",
    "1. We can add a job with the same details as an existing job to a company. They will be with different id's.\n",
    "2. report 1 - We return only the relevant lines, only existing dates from 2020 that are in the collection.\n",
    "3. report 1 - The date we present is the publish date of the job (not last modified date).\n",
    "------------------"
   ]
  },
  {
   "cell_type": "code",
   "execution_count": 1,
   "metadata": {
    "colab": {},
    "colab_type": "code",
    "collapsed": true,
    "id": "5VlkVzo2KAyd"
   },
   "outputs": [],
   "source": [
    "# import packages we need\n",
    "import pymongo\n",
    "from pymongo import MongoClient\n",
    "import redis\n",
    "import pandas as pd\n",
    "from IPython.core import display\n",
    "import datetime"
   ]
  },
  {
   "cell_type": "code",
   "execution_count": 2,
   "metadata": {
    "colab": {},
    "colab_type": "code",
    "collapsed": true,
    "id": "JYvlMXg9KAy6"
   },
   "outputs": [],
   "source": [
    "# create MongoDB client\n",
    "client = MongoClient()"
   ]
  },
  {
   "cell_type": "code",
   "execution_count": 3,
   "metadata": {
    "collapsed": true
   },
   "outputs": [],
   "source": [
    "# create a new DB in Mongo\n",
    "db = client['stud27']\n",
    "# create a collection - the name is website\n",
    "collection = db.website"
   ]
  },
  {
   "cell_type": "code",
   "execution_count": 4,
   "metadata": {
    "collapsed": true
   },
   "outputs": [],
   "source": [
    "# create redis DB\n",
    "r = redis.StrictRedis(host='bdl1.eng.tau.ac.il', port=6379)"
   ]
  },
  {
   "cell_type": "markdown",
   "metadata": {},
   "source": [
    "### operation 1"
   ]
  },
  {
   "cell_type": "code",
   "execution_count": 5,
   "metadata": {
    "colab": {},
    "colab_type": "code",
    "collapsed": true,
    "id": "hb0lPPk_KAzK"
   },
   "outputs": [],
   "source": [
    "# the function add new company with unique name.\n",
    "def add_company(company):\n",
    "    # get the name of the company\n",
    "    name = company[\"company_name\"]\n",
    "    # check if the company name is unique (doesn't exist in the DB)\n",
    "    if collection.find_one({\"company_name\": name}) is None:\n",
    "        # initialize an empty list for the jobs that we will add to this company\n",
    "        company[\"jobs_list\"] = []  \n",
    "        # insert the company to the MongoDB\n",
    "        collection.insert_one(company)\n",
    "        # initialize in redis last job id thwt we used to 0\n",
    "        r.set(name+':last_job_id',0)\n",
    "        print 'intiliaze the last job id in redis for company %s' % name \n",
    "        print 'The company %s added to the collection with the following details' % name\n",
    "        display_comp = pd.DataFrame([company])\n",
    "        return  display.display(display_comp)\n",
    "    # inform if the name is not unique \n",
    "    else: \n",
    "        return \"Please choose another name. This name %s is already exist in this collection\" % name"
   ]
  },
  {
   "cell_type": "markdown",
   "metadata": {},
   "source": [
    "### operation 2"
   ]
  },
  {
   "cell_type": "code",
   "execution_count": 6,
   "metadata": {
    "colab": {},
    "colab_type": "code",
    "collapsed": true,
    "id": "18ixYIbGKAzt"
   },
   "outputs": [],
   "source": [
    "# this function get job and company name and add the job to the job list in the company and save it with unique id\n",
    "def add_job(job,company_name):\n",
    "    # check if the company exist\n",
    "    current_company = collection.find_one({'company_name':company_name})\n",
    "    # if exist:\n",
    "    if current_company != None:\n",
    "        # get the last id we used for job in this company from redis and increase it by 1 (will be unique)\n",
    "        job_id = int(r.incr(company_name+':last_job_id'))\n",
    "        # set job_id for the new job\n",
    "        job['job_id'] = str(job_id)\n",
    "        # initialize an empty list for the applications that we will add for this job in this company\n",
    "        job['applications_list'] = []\n",
    "        # save unique job id with the company name for reports\n",
    "        job['_id'] = 'job_%s_%s' %(str(job_id),company_name)\n",
    "        job['status'] = job['status'].lower()\n",
    "        # find the company with this company name and add the job to its job list\n",
    "        collection.update_one({ \"company_name\": company_name},\n",
    "                        {\"$push\": {'jobs_list': job}})\n",
    "        \n",
    "        # check if we have date for this job\n",
    "        if 'publish_date' in job:\n",
    "            # covert the date from srting to datetime object (for reports)\n",
    "             job['publish_date'] = datetime.datetime.strptime(job['publish_date'], \"%m-%d-%Y\")\n",
    "        \n",
    "        # if the status for this job is open\n",
    "        if job['status'].lower()=='open':\n",
    "            # save for each company name the jobs id with open status in redis\n",
    "            r.sadd('open_jobs:company_name_'+company_name,job_id)\n",
    "            # save for each location and title the company name and job id in redis only for open jobs\n",
    "            r.sadd('location,title:'+job['location']+','+job['job_title'],str(job_id)+'!'+company_name)\n",
    "            print 'The open jobs updated in redis- added job id(by comapny & by location and title)'\n",
    "            \n",
    "        print \"The job with id %d in company %s added to the collection with the foloowing details\" % (job_id, company_name)\n",
    "        display_job = pd.DataFrame([job])\n",
    "        return display.display((display_job))\n",
    "    \n",
    "    # if the company is not exist        \n",
    "    else:\n",
    "        return \"This company name- %s is not exist in this collection\" % company_name"
   ]
  },
  {
   "cell_type": "markdown",
   "metadata": {},
   "source": [
    "### operation 3"
   ]
  },
  {
   "cell_type": "code",
   "execution_count": 7,
   "metadata": {
    "colab": {},
    "colab_type": "code",
    "collapsed": true,
    "id": "HS7V0_j5KAz2"
   },
   "outputs": [],
   "source": [
    "# this function add new application to a job with open status and only if the application isn't register yet\n",
    "# to this job id in the company name. in addition each email will be unique.\n",
    "def add_application(candidate, job_id, company_name):\n",
    "    # find  all the jobs for a company name if exist\n",
    "    companies = collection.find_one({\"company_name\": company_name})\n",
    "    if companies != None:\n",
    "        current_jobs = companies['jobs_list']\n",
    "        # check if the job_id in all the jobs we got\n",
    "        current_job = [job for job in current_jobs if job['job_id'] == job_id ]\n",
    "        # if there is not this job_id\n",
    "        if len(current_job) == 0: \n",
    "            return \"This job id %s is not exist in this company %s, please try again\" % (job_id, company_name)\n",
    "        # if there is this job id\n",
    "        current_job = current_job [0]\n",
    "        # if the status is close\n",
    "        if current_job['status'] == 'close':\n",
    "            return \"Can not register to the job %s in company %s because it is close for application\" % (job_id, company_name)\n",
    "        # check if the email is unique and doesn't exist\n",
    "        if candidate['email'] in [i['email'] for i in current_job['applications_list']]:\n",
    "            return \"The candidate's email (%s) exist for this job, please try again with another candidate\" % candidate['email']\n",
    "        # if can register an application for this job\n",
    "        else: \n",
    "            # check if we have date for this candidate\n",
    "            if 'application_date' in candidate:\n",
    "                # covert the date from srting to datetime object (for reports)\n",
    "                 candidate['application_date'] = datetime.datetime.strptime(candidate['application_date']+'.000Z', \"%m-%d-%Y  %H:%M:%S.000Z\")\n",
    "            # find the company with this company name and job id and add the candidate to its application list\n",
    "            collection.update_one({ \"company_name\": company_name, \"jobs_list.job_id\": job_id},\n",
    "                            {\"$push\": {'jobs_list.$.applications_list': candidate}})\n",
    "\n",
    "            # save the requierments for the job\n",
    "            job_requirements=current_job['requirements']\n",
    "            # save the number of shared skills of the candidate and requierments of the job\n",
    "            intersection=len(set(candidate['skills']).intersection(job_requirements))\n",
    "            # save for each company name. job id and candidate the number of shared skills\n",
    "            r.zadd('intersection:company_name_'+company_name+',job_id:'+str(job_id),intersection, candidate['email'])\n",
    "            print 'The number of matched skills updated in redis by comapny, job id and candidate'\n",
    "            \n",
    "            print \"The candidate with the following email: %s added to the collection for the job id %s in company %s\" % (candidate['email'],job_id, company_name)\n",
    "            display_candidate = pd.DataFrame([candidate])\n",
    "            return  display.display(display_candidate)\n",
    "    # if compant is not exist\n",
    "    else:\n",
    "        return 'The company %s is not exist on this collection' % company_name\n"
   ]
  },
  {
   "cell_type": "markdown",
   "metadata": {},
   "source": [
    "### operation 4"
   ]
  },
  {
   "cell_type": "code",
   "execution_count": 8,
   "metadata": {
    "colab": {},
    "colab_type": "code",
    "collapsed": true,
    "id": "6HpaPc2llrs9"
   },
   "outputs": [],
   "source": [
    "# this function get company name. job id and new status and change the current status to the new one.\n",
    "def update_job_status(company_name, job_id, new_status):\n",
    "    # check if the new_status is in the correct options    \n",
    "    if new_status.lower() not in ('open','close'):\n",
    "        return 'The new status is Invalid'\n",
    "    # if the new status is ok\n",
    "    else:\n",
    "        # check if the company is exist\n",
    "        current_company = collection.find_one({'company_name':company_name})\n",
    "        # if not exisit\n",
    "        if current_company is None:\n",
    "            return 'This company %s is not exist' % company_name\n",
    "        # if exist\n",
    "        else:\n",
    "            # check if the job id is not exist in this company\n",
    "            if job_id not in [i['job_id'] for i in current_company['jobs_list']]:\n",
    "                return 'This job %s is not exist in this company %s' % (job_id, company_name)\n",
    "            # if the job id is exist in this company\n",
    "            else:\n",
    "                # check if the job id exist in the open jobs for this company\n",
    "                status_open = r.sismember('open_jobs:company_name_'+company_name,job_id)\n",
    "                # if job with open status and the new status is open too\n",
    "                if status_open and new_status.lower() == 'open':\n",
    "                    return 'Nothing to update- the status is already open'\n",
    "                # if job with close status and the new status is close too\n",
    "                elif not status_open and new_status.lower() == 'close':\n",
    "                    return 'Nothing to update- the status is already close'\n",
    "                # find the company with this company name and job id and update the status\n",
    "                # add last midified date for this change\n",
    "                collection.update_one({ \"company_name\": company_name, \"jobs_list.job_id\": job_id},\n",
    "                                {\"$set\": {\"jobs_list.$.status\": new_status.lower()},\n",
    "                                 \"$currentDate\":{\"jobs_list.$.lastModified\":True}})\n",
    "                \n",
    "                # get the company where the company name is this and it has the job id in job_list\n",
    "                company = collection.find_one({\"company_name\": company_name, \"jobs_list.job_id\": job_id})\n",
    "                # save the job list and get the title and the location for this job id\n",
    "                job_list = company['jobs_list']\n",
    "                title = [job['job_title'] for job in job_list if job['job_id']==job_id][0]\n",
    "                location = [job['location'] for job in job_list if job['job_id']==job_id][0]\n",
    "                \n",
    "                # if the new status is open\n",
    "                if new_status.lower() =='open':\n",
    "                    # add the job id to the open jobs for this company in redis\n",
    "                    r.sadd('open_jobs:company_name_'+company_name,job_id)\n",
    "                    # add for this location and title the comapny name with the job id\n",
    "                    r.sadd('location,title:'+str(location)+','+str(title),str(job_id)+'!'+company_name)\n",
    "                    print 'The open jobs updated in redis- add job id(by comapny & by location and title)'\n",
    "                else:\n",
    "                    # remove the job id to the open jobs for this company in redis\n",
    "                    r.srem('open_jobs:company_name_'+company_name,job_id)\n",
    "                    # remove for this location and title the comapny name with the job id\n",
    "                    r.srem('location,title:'+str(location)+','+str(title),str(job_id)+'!'+company_name)\n",
    "                    print 'The open jobs updated in redis- remove job id(by comapny & by location and title)'\n",
    "                \n",
    "                return \"the job id %s of company %s changed the status to %s\" % (job_id,company_name,new_status)\n",
    "                    "
   ]
  },
  {
   "cell_type": "markdown",
   "metadata": {},
   "source": [
    "### operation 5"
   ]
  },
  {
   "cell_type": "code",
   "execution_count": 9,
   "metadata": {
    "colab": {},
    "colab_type": "code",
    "collapsed": true,
    "id": "tDZDJFnXlrtB"
   },
   "outputs": [],
   "source": [
    "# this function get location and title and return the number of open jobs using redis\n",
    "def show_number_of_jobs(location,job_title):\n",
    "    # get the correct number from redis\n",
    "    num_open_jobs = len(r.smembers('location,title:'+str(location)+','+str(job_title)))\n",
    "    return 'The number of open jobs in location %s with title %s is %d' % (location, job_title, num_open_jobs)"
   ]
  },
  {
   "cell_type": "markdown",
   "metadata": {},
   "source": [
    "### operation 6"
   ]
  },
  {
   "cell_type": "code",
   "execution_count": 10,
   "metadata": {
    "collapsed": true
   },
   "outputs": [],
   "source": [
    "# this function get company name and job id and return candidates's email sorts in asce order\n",
    "# by number of matches between skills and requierments\n",
    "def show_candidates(company_name, job_id):\n",
    "    # check if the company name with this job id exist\n",
    "    current_company = collection.find_one({\"company_name\": company_name, 'jobs_list.job_id': job_id})\n",
    "    # if exist\n",
    "    if current_company is not None:\n",
    "        # get the candidates's emails for this job in this company from redis\n",
    "        candidate = r.zrange('intersection:company_name_'+company_name+',job_id:'+str(job_id),0,-1)\n",
    "        if len(candidate) == 0:\n",
    "            return ('There is no candidates in this job %s in the company %s' % (job_id, company_name))\n",
    "        print ('These are the emails in ASCE order by number of matches')\n",
    "        return  display.display(pd.DataFrame(candidate, columns=['emails']))\n",
    "    # if company and job id is not exist\n",
    "    else: \n",
    "        return ('There is no a company %s with this job id %s - This job is not exist for this company or company is not exist' % (company_name, job_id))"
   ]
  },
  {
   "cell_type": "markdown",
   "metadata": {},
   "source": [
    "### report 1"
   ]
  },
  {
   "cell_type": "code",
   "execution_count": 11,
   "metadata": {
    "collapsed": true
   },
   "outputs": [],
   "source": [
    "# this function return for each date in 2020 that exist in the collection in the publish date of jobs\n",
    "# the number of close jobs and the number of open jobs\n",
    "def count_jobs_by_date(): \n",
    "    # split the collection by job_list\n",
    "    unwind_func = {'$unwind': '$jobs_list'}\n",
    "    # leave only _id of job , status and puclish date and add new 2 fields for open jobs and close and save only the year of publish date\n",
    "    proj_func={'$project': {'jobs_list._id': 1, 'jobs_list.status':1, 'jobs_list.publish_date':1,\n",
    "                            'year':{'$substr': [ '$jobs_list.publish_date', 6,-1 ]},\n",
    "                            'num_open_jobs': {'$cond': [{'$eq': ['$jobs_list.status', 'open']}, 1, 0]},\n",
    "                            'num_close_jobs': {'$cond': [{'$eq': ['$jobs_list.status', 'close']}, 1, 0]}}} \n",
    "    # leave only rows with 2020 in the year of the publish date\n",
    "    match = {'$match': {'year':{'$eq':'2020'}}}\n",
    "    # group by publish date and sum the numner of open jobs and close jobs sepreatly\n",
    "    group_func ={'$group': {'_id': '$jobs_list.publish_date','num_open_jobs': {'$sum': '$num_open_jobs'},\n",
    "                            'num_close_jobs': {'$sum': '$num_close_jobs'} } }\n",
    "    # the _id now is the date so sort in ASCE order\n",
    "    sort_func= { '$sort' : { '_id' : 1 }}\n",
    "    # define the pipeline with all the functions\n",
    "    pipeline = [unwind_func, proj_func,match, group_func]\n",
    "    # execute the query and convert to data frame\n",
    "    res_df = pd.DataFrame.from_dict(list(collection.aggregate(pipeline)))\n",
    "\n",
    "    return display.display(res_df)"
   ]
  },
  {
   "cell_type": "markdown",
   "metadata": {},
   "source": [
    "### report 2"
   ]
  },
  {
   "cell_type": "code",
   "execution_count": 12,
   "metadata": {
    "colab": {},
    "colab_type": "code",
    "collapsed": true,
    "id": "etk-m0uIKA0a"
   },
   "outputs": [],
   "source": [
    "# this function return for each job the number of application it has with application date in the past 30 days\n",
    "def count_candidates_by_job():\n",
    "    # create agg functions for aggregate() method with the pipeline\n",
    "    # split the collection by job_list- job _id\n",
    "    unwind_func = {'$unwind': '$jobs_list'}\n",
    "    unwind2_func = {'$unwind': '$jobs_list._id'}\n",
    "    # leave only _id of job and application list only with the application with the correct date\n",
    "    proj_func={'$project': {'jobs_list._id': 1, 'jobs_list.applications_list': {'$filter': {'input': \"$jobs_list.applications_list\",'as': \"list\",\n",
    "                                                                   'cond': { '$gt': [ \"$$list.application_date\", datetime.datetime.today()-datetime.timedelta(days=30) ] }}}}}\n",
    "    # caculate the size of each application list\n",
    "    group_func = {\"$group\": {\"_id\": \"$jobs_list._id\",'number_of_application':{'$first':{'$size': '$jobs_list.applications_list' }}}}\n",
    "    \n",
    "    # define the pipeline with all the functions\n",
    "    pipeline = [unwind_func, unwind2_func,proj_func, group_func]\n",
    "    # execute the query and convert to data frame\n",
    "    res_df = pd.DataFrame.from_dict(list(collection.aggregate(pipeline)))\n",
    "    print \"\\nThe number of applications who their application date is in the past 30 days for each job's id\"\n",
    "    return  display.display(res_df)"
   ]
  },
  {
   "cell_type": "markdown",
   "metadata": {},
   "source": [
    "### recovery for redis"
   ]
  },
  {
   "cell_type": "code",
   "execution_count": 13,
   "metadata": {
    "collapsed": true
   },
   "outputs": [],
   "source": [
    "# this function will be run whenever the redis dever restarts (like power failure)\n",
    "# the function reload all the data to cahce (redis) from the persistent data (mongodb)\n",
    "def recovery():\n",
    "    # recover the last job_id for each company\n",
    "    # split by job_list and group by company name and save the maximum job_id\n",
    "    unwind_func ={\"$unwind\": \"$jobs_list\"}\n",
    "    group_func = {\"$group\": {\"_id\": \"$company_name\", \"last_id\": {\"$max\": \"$jobs_list.job_id\"}}}\n",
    "    # create the pipeline and apply it on the collection\n",
    "    pipeline=[unwind_func, group_func]\n",
    "    companies_last_id = collection.aggregate(pipeline)\n",
    "    # for each company\n",
    "    for company in companies_last_id:\n",
    "        # save the last id in redis with the correct company name\n",
    "        r.set(str(company['_id'])+':last_job_id',int(company['last_id']))\n",
    "        \n",
    "    # recover all the things that related to open jobs\n",
    "    # leave only job id , status, company name, title and location\n",
    "    proj_func = {'$project': { 'jobs_list.status':1, 'jobs_list.job_id':1, 'company_name':1,\n",
    "                              'jobs_list.job_title':1,'jobs_list.location':1}} \n",
    "    # leave only rows with open status\n",
    "    match_func = {'$match': {'jobs_list.status':{'$eq':'open'}}}\n",
    "    # create another pipeline and apply it on the collection\n",
    "    pipeline2 = [unwind_func, proj_func, match_func]\n",
    "    companies_open_jobs = list(collection.aggregate(pipeline2))\n",
    "    # for each open job\n",
    "    for open_job in companies_open_jobs:\n",
    "        # save job_id, company name, title and location\n",
    "        job_id = open_job['jobs_list']['job_id']\n",
    "        company_name = open_job['company_name']\n",
    "        location = open_job['jobs_list']['location']\n",
    "        title = open_job['jobs_list']['job_title']\n",
    "        # recover the jobs id for open job for each company-add it to redis to a set\n",
    "        r.sadd('open_jobs:company_name_'+str(company_name),int(job_id))\n",
    "        # recover the jobs id and company name for open job for each title&location-add it to redis to a set\n",
    "        r.sadd('location,title:'+str(location)+','+str(title),str(job_id)+'!'+str(company_name))\n",
    "    \n",
    "    # recover all the things that related to application so save the applications list for each job\n",
    "    # leave only job_id , company_name, skills and requirements\n",
    "    proj_func2 = {'$project': { 'jobs_list.job_id':1, 'company_name':1, 'jobs_list.applications_list.skills':1,\n",
    "                       'jobs_list.applications_list.email':1, 'jobs_list.requirements':1}} \n",
    "    # split by application list\n",
    "    unwind_func2 = {'$unwind': '$jobs_list.applications_list'}\n",
    "    # leave only job_id , company_name and number of matches between skills and requirements\n",
    "    proj_func3 = {'$project': { 'jobs_list.job_id':1, 'company_name':1,'jobs_list.applications_list.email':1,\n",
    "                        'num_matches':{'$size':{'$setIntersection':['$jobs_list.requirements','$jobs_list.applications_list.skills']}}}}\n",
    "    # create another pipeline and apply it on the collection\n",
    "    pipeline3 = [unwind_func, proj_func2, unwind_func2, proj_func3] \n",
    "    applications = list(collection.aggregate(pipeline3))\n",
    "    # for each application\n",
    "    for application in applications:\n",
    "        # save job_id, company_name, number of matches and email\n",
    "        job_id = application['jobs_list']['job_id']\n",
    "        company_name = application['company_name']\n",
    "        num_of_matches = application['num_matches']\n",
    "        email = application['jobs_list']['applications_list']['email']\n",
    "        # recover the number of matches between requirements and skills for each application by company name and job id\n",
    "        r.zadd('intersection:company_name_'+str(company_name)+',job_id:'+str(job_id),num_of_matches, str(email))\n",
    "    \n",
    "    return 'All the data recovered to redis succefully'"
   ]
  },
  {
   "cell_type": "markdown",
   "metadata": {},
   "source": [
    "### execute"
   ]
  },
  {
   "cell_type": "code",
   "execution_count": 14,
   "metadata": {
    "colab": {},
    "colab_type": "code",
    "collapsed": true,
    "id": "4o3iVIe1KA09"
   },
   "outputs": [],
   "source": [
    "# this function call all the function we created above with all the examples from the instruction\n",
    "def execute():\n",
    "    print ('-------------------------------- operations --------------------------------')\n",
    "    print ('\\noperation 1')\n",
    "    add_company({'company_name':'TAU', 'company_description':'University'})\n",
    "    \n",
    "    print ('\\noperation 2')\n",
    "    add_job({'job_title':'bi developer', 'location': 'Tel Aviv',\n",
    "            'requirements':['python','big data','mongodb'],\n",
    "            'status':'open','publish_date':'01-02-2020'},'TAU')\n",
    "\n",
    "    print ('\\noperation 3')\n",
    "    add_application({'candidate_name':'laura', 'email':'laura@gmail.com',\n",
    "                    'linkedin':'https://www.linkedin.com/in/laura/', 'skills': ['python','sql'],\n",
    "                    'application_date':'01-02-2020 15:00:00'}, '1','TAU')\n",
    "    \n",
    "    print ('\\noperation 4')\n",
    "    display.display(update_job_status('TAU','1','close'))\n",
    "    display.display(update_job_status('TAU','1','open'))\n",
    "    \n",
    "    print ('\\noperation 5')\n",
    "    display.display(show_number_of_jobs('Tel Aviv','bi developer'))\n",
    "    \n",
    "    print ('\\noperation 6')\n",
    "    show_candidates('TAU','1')\n",
    "   \n",
    "    print ('\\n\\n-------------------------------- reports --------------------------------')\n",
    "    print ('\\nreport 1')\n",
    "    count_jobs_by_date()\n",
    "    \n",
    "    print ('\\nreport 2')\n",
    "    count_candidates_by_job()\n",
    "    \n",
    "    print ('\\n\\n-------------------------------- recovery --------------------------------')\n",
    "    display.display(recovery())"
   ]
  },
  {
   "cell_type": "markdown",
   "metadata": {},
   "source": [
    "--------------------------\n"
   ]
  },
  {
   "cell_type": "code",
   "execution_count": 15,
   "metadata": {
    "colab": {},
    "colab_type": "code",
    "id": "bhEEn2_eKA1H",
    "outputId": "291b4658-541e-43c8-889d-779500118578"
   },
   "outputs": [
    {
     "data": {
      "text/plain": [
       "True"
      ]
     },
     "execution_count": 15,
     "metadata": {},
     "output_type": "execute_result"
    }
   ],
   "source": [
    "# make sure all the DB-Mongo and Redis are empty and clean from old data\n",
    "collection.drop()\n",
    "r.flushall()"
   ]
  },
  {
   "cell_type": "code",
   "execution_count": 16,
   "metadata": {
    "colab": {},
    "colab_type": "code",
    "id": "F4flIUN8KA1y",
    "outputId": "a4368768-ec8d-46a1-a342-3dda17992ac2",
    "scrolled": false
   },
   "outputs": [
    {
     "name": "stdout",
     "output_type": "stream",
     "text": [
      "-------------------------------- operations --------------------------------\n",
      "\n",
      "operation 1\n",
      "intiliaze the last job id in redis for company TAU\n",
      "The company TAU added to the collection with the following details\n"
     ]
    },
    {
     "data": {
      "text/html": [
       "<div>\n",
       "<style scoped>\n",
       "    .dataframe tbody tr th:only-of-type {\n",
       "        vertical-align: middle;\n",
       "    }\n",
       "\n",
       "    .dataframe tbody tr th {\n",
       "        vertical-align: top;\n",
       "    }\n",
       "\n",
       "    .dataframe thead th {\n",
       "        text-align: right;\n",
       "    }\n",
       "</style>\n",
       "<table border=\"1\" class=\"dataframe\">\n",
       "  <thead>\n",
       "    <tr style=\"text-align: right;\">\n",
       "      <th></th>\n",
       "      <th>_id</th>\n",
       "      <th>company_description</th>\n",
       "      <th>company_name</th>\n",
       "      <th>jobs_list</th>\n",
       "    </tr>\n",
       "  </thead>\n",
       "  <tbody>\n",
       "    <tr>\n",
       "      <th>0</th>\n",
       "      <td>609e54768ec143509036df61</td>\n",
       "      <td>University</td>\n",
       "      <td>TAU</td>\n",
       "      <td>[]</td>\n",
       "    </tr>\n",
       "  </tbody>\n",
       "</table>\n",
       "</div>"
      ],
      "text/plain": [
       "                        _id company_description company_name jobs_list\n",
       "0  609e54768ec143509036df61          University          TAU        []"
      ]
     },
     "metadata": {},
     "output_type": "display_data"
    },
    {
     "name": "stdout",
     "output_type": "stream",
     "text": [
      "\n",
      "operation 2\n",
      "The open jobs updated in redis- added job id(by comapny & by location and title)\n",
      "The job with id 1 in company TAU added to the collection with the foloowing details\n"
     ]
    },
    {
     "data": {
      "text/html": [
       "<div>\n",
       "<style scoped>\n",
       "    .dataframe tbody tr th:only-of-type {\n",
       "        vertical-align: middle;\n",
       "    }\n",
       "\n",
       "    .dataframe tbody tr th {\n",
       "        vertical-align: top;\n",
       "    }\n",
       "\n",
       "    .dataframe thead th {\n",
       "        text-align: right;\n",
       "    }\n",
       "</style>\n",
       "<table border=\"1\" class=\"dataframe\">\n",
       "  <thead>\n",
       "    <tr style=\"text-align: right;\">\n",
       "      <th></th>\n",
       "      <th>_id</th>\n",
       "      <th>applications_list</th>\n",
       "      <th>job_id</th>\n",
       "      <th>job_title</th>\n",
       "      <th>location</th>\n",
       "      <th>publish_date</th>\n",
       "      <th>requirements</th>\n",
       "      <th>status</th>\n",
       "    </tr>\n",
       "  </thead>\n",
       "  <tbody>\n",
       "    <tr>\n",
       "      <th>0</th>\n",
       "      <td>job_1_TAU</td>\n",
       "      <td>[]</td>\n",
       "      <td>1</td>\n",
       "      <td>bi developer</td>\n",
       "      <td>Tel Aviv</td>\n",
       "      <td>2020-01-02</td>\n",
       "      <td>[python, big data, mongodb]</td>\n",
       "      <td>open</td>\n",
       "    </tr>\n",
       "  </tbody>\n",
       "</table>\n",
       "</div>"
      ],
      "text/plain": [
       "         _id applications_list job_id     job_title  location publish_date  \\\n",
       "0  job_1_TAU                []      1  bi developer  Tel Aviv   2020-01-02   \n",
       "\n",
       "                  requirements status  \n",
       "0  [python, big data, mongodb]   open  "
      ]
     },
     "metadata": {},
     "output_type": "display_data"
    },
    {
     "name": "stdout",
     "output_type": "stream",
     "text": [
      "\n",
      "operation 3\n",
      "The number of matched skills updated in redis by comapny, job id and candidate\n",
      "The candidate with the following email: laura@gmail.com added to the collection for the job id 1 in company TAU\n"
     ]
    },
    {
     "data": {
      "text/html": [
       "<div>\n",
       "<style scoped>\n",
       "    .dataframe tbody tr th:only-of-type {\n",
       "        vertical-align: middle;\n",
       "    }\n",
       "\n",
       "    .dataframe tbody tr th {\n",
       "        vertical-align: top;\n",
       "    }\n",
       "\n",
       "    .dataframe thead th {\n",
       "        text-align: right;\n",
       "    }\n",
       "</style>\n",
       "<table border=\"1\" class=\"dataframe\">\n",
       "  <thead>\n",
       "    <tr style=\"text-align: right;\">\n",
       "      <th></th>\n",
       "      <th>application_date</th>\n",
       "      <th>candidate_name</th>\n",
       "      <th>email</th>\n",
       "      <th>linkedin</th>\n",
       "      <th>skills</th>\n",
       "    </tr>\n",
       "  </thead>\n",
       "  <tbody>\n",
       "    <tr>\n",
       "      <th>0</th>\n",
       "      <td>2020-01-02 15:00:00</td>\n",
       "      <td>laura</td>\n",
       "      <td>laura@gmail.com</td>\n",
       "      <td>https://www.linkedin.com/in/laura/</td>\n",
       "      <td>[python, sql]</td>\n",
       "    </tr>\n",
       "  </tbody>\n",
       "</table>\n",
       "</div>"
      ],
      "text/plain": [
       "     application_date candidate_name            email  \\\n",
       "0 2020-01-02 15:00:00          laura  laura@gmail.com   \n",
       "\n",
       "                             linkedin         skills  \n",
       "0  https://www.linkedin.com/in/laura/  [python, sql]  "
      ]
     },
     "metadata": {},
     "output_type": "display_data"
    },
    {
     "name": "stdout",
     "output_type": "stream",
     "text": [
      "\n",
      "operation 4\n",
      "The open jobs updated in redis- remove job id(by comapny & by location and title)\n"
     ]
    },
    {
     "data": {
      "text/plain": [
       "'the job id 1 of company TAU changed the status to close'"
      ]
     },
     "metadata": {},
     "output_type": "display_data"
    },
    {
     "name": "stdout",
     "output_type": "stream",
     "text": [
      "The open jobs updated in redis- add job id(by comapny & by location and title)\n"
     ]
    },
    {
     "data": {
      "text/plain": [
       "'the job id 1 of company TAU changed the status to open'"
      ]
     },
     "metadata": {},
     "output_type": "display_data"
    },
    {
     "name": "stdout",
     "output_type": "stream",
     "text": [
      "\n",
      "operation 5\n"
     ]
    },
    {
     "data": {
      "text/plain": [
       "'The number of open jobs in location Tel Aviv with title bi developer is 1'"
      ]
     },
     "metadata": {},
     "output_type": "display_data"
    },
    {
     "name": "stdout",
     "output_type": "stream",
     "text": [
      "\n",
      "operation 6\n",
      "These are the emails in ASCE order by number of matches\n"
     ]
    },
    {
     "data": {
      "text/html": [
       "<div>\n",
       "<style scoped>\n",
       "    .dataframe tbody tr th:only-of-type {\n",
       "        vertical-align: middle;\n",
       "    }\n",
       "\n",
       "    .dataframe tbody tr th {\n",
       "        vertical-align: top;\n",
       "    }\n",
       "\n",
       "    .dataframe thead th {\n",
       "        text-align: right;\n",
       "    }\n",
       "</style>\n",
       "<table border=\"1\" class=\"dataframe\">\n",
       "  <thead>\n",
       "    <tr style=\"text-align: right;\">\n",
       "      <th></th>\n",
       "      <th>emails</th>\n",
       "    </tr>\n",
       "  </thead>\n",
       "  <tbody>\n",
       "    <tr>\n",
       "      <th>0</th>\n",
       "      <td>laura@gmail.com</td>\n",
       "    </tr>\n",
       "  </tbody>\n",
       "</table>\n",
       "</div>"
      ],
      "text/plain": [
       "            emails\n",
       "0  laura@gmail.com"
      ]
     },
     "metadata": {},
     "output_type": "display_data"
    },
    {
     "name": "stdout",
     "output_type": "stream",
     "text": [
      "\n",
      "\n",
      "-------------------------------- reports --------------------------------\n",
      "\n",
      "report 1\n"
     ]
    },
    {
     "data": {
      "text/html": [
       "<div>\n",
       "<style scoped>\n",
       "    .dataframe tbody tr th:only-of-type {\n",
       "        vertical-align: middle;\n",
       "    }\n",
       "\n",
       "    .dataframe tbody tr th {\n",
       "        vertical-align: top;\n",
       "    }\n",
       "\n",
       "    .dataframe thead th {\n",
       "        text-align: right;\n",
       "    }\n",
       "</style>\n",
       "<table border=\"1\" class=\"dataframe\">\n",
       "  <thead>\n",
       "    <tr style=\"text-align: right;\">\n",
       "      <th></th>\n",
       "      <th>_id</th>\n",
       "      <th>num_close_jobs</th>\n",
       "      <th>num_open_jobs</th>\n",
       "    </tr>\n",
       "  </thead>\n",
       "  <tbody>\n",
       "    <tr>\n",
       "      <th>0</th>\n",
       "      <td>01-02-2020</td>\n",
       "      <td>0</td>\n",
       "      <td>1</td>\n",
       "    </tr>\n",
       "  </tbody>\n",
       "</table>\n",
       "</div>"
      ],
      "text/plain": [
       "          _id  num_close_jobs  num_open_jobs\n",
       "0  01-02-2020               0              1"
      ]
     },
     "metadata": {},
     "output_type": "display_data"
    },
    {
     "name": "stdout",
     "output_type": "stream",
     "text": [
      "\n",
      "report 2\n",
      "\n",
      "The number of applications who their application date is in the past 30 days for each job's id\n"
     ]
    },
    {
     "data": {
      "text/html": [
       "<div>\n",
       "<style scoped>\n",
       "    .dataframe tbody tr th:only-of-type {\n",
       "        vertical-align: middle;\n",
       "    }\n",
       "\n",
       "    .dataframe tbody tr th {\n",
       "        vertical-align: top;\n",
       "    }\n",
       "\n",
       "    .dataframe thead th {\n",
       "        text-align: right;\n",
       "    }\n",
       "</style>\n",
       "<table border=\"1\" class=\"dataframe\">\n",
       "  <thead>\n",
       "    <tr style=\"text-align: right;\">\n",
       "      <th></th>\n",
       "      <th>_id</th>\n",
       "      <th>number_of_application</th>\n",
       "    </tr>\n",
       "  </thead>\n",
       "  <tbody>\n",
       "    <tr>\n",
       "      <th>0</th>\n",
       "      <td>job_1_TAU</td>\n",
       "      <td>0</td>\n",
       "    </tr>\n",
       "  </tbody>\n",
       "</table>\n",
       "</div>"
      ],
      "text/plain": [
       "         _id  number_of_application\n",
       "0  job_1_TAU                      0"
      ]
     },
     "metadata": {},
     "output_type": "display_data"
    },
    {
     "name": "stdout",
     "output_type": "stream",
     "text": [
      "\n",
      "\n",
      "-------------------------------- recovery --------------------------------\n"
     ]
    },
    {
     "data": {
      "text/plain": [
       "'All the data recovered to redis succefully'"
      ]
     },
     "metadata": {},
     "output_type": "display_data"
    }
   ],
   "source": [
    "execute()"
   ]
  },
  {
   "cell_type": "code",
   "execution_count": null,
   "metadata": {
    "collapsed": true
   },
   "outputs": [],
   "source": []
  }
 ],
 "metadata": {
  "colab": {
   "name": "HW1_Final_123.ipynb",
   "provenance": []
  },
  "kernelspec": {
   "display_name": "Python 3",
   "language": "python",
   "name": "python3"
  },
  "language_info": {
   "codemirror_mode": {
    "name": "ipython",
    "version": 3
   },
   "file_extension": ".py",
   "mimetype": "text/x-python",
   "name": "python",
   "nbconvert_exporter": "python",
   "pygments_lexer": "ipython3",
   "version": "3.8.5"
  }
 },
 "nbformat": 4,
 "nbformat_minor": 1
}
